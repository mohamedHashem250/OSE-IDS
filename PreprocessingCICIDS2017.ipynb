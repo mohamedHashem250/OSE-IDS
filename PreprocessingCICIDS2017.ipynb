{
 "cells": [
  {
   "cell_type": "code",
   "execution_count": 3,
   "id": "f04a7312-d4ae-43a9-aa67-1071b1461ab9",
   "metadata": {},
   "outputs": [],
   "source": [
    "import matplotlib.pyplot as plt\n",
    "from sklearn.linear_model import SGDClassifier,RidgeClassifier\n",
    "from sklearn.metrics import (precision_score, recall_score,f1_score)\n",
    "from sklearn.metrics import average_precision_score\n",
    "import pandas as pd"
   ]
  },
  {
   "cell_type": "code",
   "execution_count": 4,
   "id": "5eab8a57-36b4-4378-b98a-5ae80dd5061d",
   "metadata": {},
   "outputs": [],
   "source": [
    "from sklearn.decomposition import PCA \n",
    "from sklearn.manifold import TSNE"
   ]
  },
  {
   "cell_type": "code",
   "execution_count": 5,
   "id": "aa66ac93-719f-4894-a3d6-aa6fecddc951",
   "metadata": {},
   "outputs": [],
   "source": [
    "########## Sklearn #############\n",
    "# Pre-processing\n",
    "from sklearn.preprocessing import LabelEncoder, StandardScaler, MinMaxScaler\n",
    "from sklearn.model_selection import train_test_split\n",
    "# Metrics\n",
    "from sklearn.metrics import confusion_matrix, accuracy_score, classification_report\n",
    "from sklearn.metrics import roc_auc_score, roc_curve\n",
    "# Models\n",
    "from sklearn.linear_model import LogisticRegression     # Logistic Regression\n",
    "from sklearn.naive_bayes import GaussianNB              # Naive Bayes\n",
    "from sklearn.neighbors import KNeighborsClassifier      # KNN\n",
    "from sklearn.svm import SVC                             # SVC\n",
    "from sklearn import tree                                # CART - Sınıflandırma ve Regresyon Ağaçları\n",
    "from sklearn.tree import DecisionTreeClassifier         # CART - Sınıflandırma ve Regresyon Ağaçları\n",
    "from sklearn.ensemble import BaggingClassifier          # Bagging\n",
    "from sklearn.ensemble import VotingClassifier           # Voting\n",
    "from sklearn.ensemble import RandomForestClassifier     # Random Forest\n",
    "from sklearn.ensemble import AdaBoostClassifier         # Ada Boost\n",
    "from sklearn.ensemble import GradientBoostingClassifier # GBM - Gradient Boosting Machine\n",
    "from sklearn.ensemble import ExtraTreesClassifier\n",
    "\n",
    "                   # LightGBM | !conda install -c conda-forge lightgbm"
   ]
  },
  {
   "cell_type": "code",
   "execution_count": 6,
   "id": "f49cb24e-7827-4e29-bf32-3df27be0520f",
   "metadata": {},
   "outputs": [],
   "source": [
    "import pandas as pd\n",
    "import numpy as np\n",
    "import sys, os , warnings\n",
    "from collections import defaultdict\n",
    "from sklearn.preprocessing import LabelEncoder, StandardScaler ,MinMaxScaler,RobustScaler, PowerTransformer, normalize\n",
    "warnings.filterwarnings('ignore')\n",
    "import seaborn as sns\n",
    "from sklearn.utils import resample"
   ]
  },
  {
   "cell_type": "code",
   "execution_count": 8,
   "id": "3925ff66-8904-4afd-86b5-8f1e3e00be25",
   "metadata": {},
   "outputs": [],
   "source": [
    "df = pd.read_csv('./cleanedCICIDS2017.csv' ,index_col=0)"
   ]
  },
  {
   "cell_type": "code",
   "execution_count": 9,
   "id": "b6b20966-ef96-4e2e-befb-fd782d32c2cb",
   "metadata": {},
   "outputs": [
    {
     "data": {
      "text/plain": [
       "(2520798, 16)"
      ]
     },
     "execution_count": 9,
     "metadata": {},
     "output_type": "execute_result"
    }
   ],
   "source": [
    "df.shape"
   ]
  },
  {
   "cell_type": "code",
   "execution_count": 10,
   "id": "63af634b-4aea-46e0-b5b1-0270a1503c32",
   "metadata": {},
   "outputs": [
    {
     "data": {
      "text/html": [
       "<div>\n",
       "<style scoped>\n",
       "    .dataframe tbody tr th:only-of-type {\n",
       "        vertical-align: middle;\n",
       "    }\n",
       "\n",
       "    .dataframe tbody tr th {\n",
       "        vertical-align: top;\n",
       "    }\n",
       "\n",
       "    .dataframe thead th {\n",
       "        text-align: right;\n",
       "    }\n",
       "</style>\n",
       "<table border=\"1\" class=\"dataframe\">\n",
       "  <thead>\n",
       "    <tr style=\"text-align: right;\">\n",
       "      <th></th>\n",
       "      <th>Destination Port</th>\n",
       "      <th>Flow Duration</th>\n",
       "      <th>Bwd Packet Length Max</th>\n",
       "      <th>Bwd Packet Length Min</th>\n",
       "      <th>Flow IAT Mean</th>\n",
       "      <th>Flow IAT Std</th>\n",
       "      <th>Bwd IAT Std</th>\n",
       "      <th>Fwd PSH Flags</th>\n",
       "      <th>Min Packet Length</th>\n",
       "      <th>FIN Flag Count</th>\n",
       "      <th>PSH Flag Count</th>\n",
       "      <th>ACK Flag Count</th>\n",
       "      <th>URG Flag Count</th>\n",
       "      <th>Init_Win_bytes_backward</th>\n",
       "      <th>Idle Std</th>\n",
       "      <th>Label</th>\n",
       "    </tr>\n",
       "  </thead>\n",
       "  <tbody>\n",
       "    <tr>\n",
       "      <th>0</th>\n",
       "      <td>22</td>\n",
       "      <td>1266342</td>\n",
       "      <td>976</td>\n",
       "      <td>0</td>\n",
       "      <td>15075.50000</td>\n",
       "      <td>104051.399700</td>\n",
       "      <td>19636.44809</td>\n",
       "      <td>0</td>\n",
       "      <td>0</td>\n",
       "      <td>0</td>\n",
       "      <td>1</td>\n",
       "      <td>0</td>\n",
       "      <td>0</td>\n",
       "      <td>243</td>\n",
       "      <td>0.0</td>\n",
       "      <td>0</td>\n",
       "    </tr>\n",
       "    <tr>\n",
       "      <th>1</th>\n",
       "      <td>22</td>\n",
       "      <td>1319353</td>\n",
       "      <td>976</td>\n",
       "      <td>0</td>\n",
       "      <td>15706.58333</td>\n",
       "      <td>104861.870100</td>\n",
       "      <td>21337.26261</td>\n",
       "      <td>0</td>\n",
       "      <td>0</td>\n",
       "      <td>0</td>\n",
       "      <td>1</td>\n",
       "      <td>0</td>\n",
       "      <td>0</td>\n",
       "      <td>243</td>\n",
       "      <td>0.0</td>\n",
       "      <td>0</td>\n",
       "    </tr>\n",
       "    <tr>\n",
       "      <th>2</th>\n",
       "      <td>22</td>\n",
       "      <td>160</td>\n",
       "      <td>0</td>\n",
       "      <td>0</td>\n",
       "      <td>160.00000</td>\n",
       "      <td>0.000000</td>\n",
       "      <td>0.00000</td>\n",
       "      <td>0</td>\n",
       "      <td>0</td>\n",
       "      <td>0</td>\n",
       "      <td>0</td>\n",
       "      <td>1</td>\n",
       "      <td>1</td>\n",
       "      <td>243</td>\n",
       "      <td>0.0</td>\n",
       "      <td>0</td>\n",
       "    </tr>\n",
       "    <tr>\n",
       "      <th>3</th>\n",
       "      <td>22</td>\n",
       "      <td>1303488</td>\n",
       "      <td>976</td>\n",
       "      <td>0</td>\n",
       "      <td>15896.19512</td>\n",
       "      <td>106554.899000</td>\n",
       "      <td>23962.23892</td>\n",
       "      <td>0</td>\n",
       "      <td>0</td>\n",
       "      <td>0</td>\n",
       "      <td>1</td>\n",
       "      <td>0</td>\n",
       "      <td>0</td>\n",
       "      <td>243</td>\n",
       "      <td>0.0</td>\n",
       "      <td>0</td>\n",
       "    </tr>\n",
       "    <tr>\n",
       "      <th>4</th>\n",
       "      <td>35396</td>\n",
       "      <td>77</td>\n",
       "      <td>0</td>\n",
       "      <td>0</td>\n",
       "      <td>38.50000</td>\n",
       "      <td>14.849242</td>\n",
       "      <td>0.00000</td>\n",
       "      <td>0</td>\n",
       "      <td>0</td>\n",
       "      <td>0</td>\n",
       "      <td>0</td>\n",
       "      <td>1</td>\n",
       "      <td>1</td>\n",
       "      <td>290</td>\n",
       "      <td>0.0</td>\n",
       "      <td>0</td>\n",
       "    </tr>\n",
       "  </tbody>\n",
       "</table>\n",
       "</div>"
      ],
      "text/plain": [
       "   Destination Port  Flow Duration  Bwd Packet Length Max  \\\n",
       "0                22        1266342                    976   \n",
       "1                22        1319353                    976   \n",
       "2                22            160                      0   \n",
       "3                22        1303488                    976   \n",
       "4             35396             77                      0   \n",
       "\n",
       "   Bwd Packet Length Min  Flow IAT Mean   Flow IAT Std  Bwd IAT Std  \\\n",
       "0                      0    15075.50000  104051.399700  19636.44809   \n",
       "1                      0    15706.58333  104861.870100  21337.26261   \n",
       "2                      0      160.00000       0.000000      0.00000   \n",
       "3                      0    15896.19512  106554.899000  23962.23892   \n",
       "4                      0       38.50000      14.849242      0.00000   \n",
       "\n",
       "   Fwd PSH Flags  Min Packet Length  FIN Flag Count  PSH Flag Count  \\\n",
       "0              0                  0               0               1   \n",
       "1              0                  0               0               1   \n",
       "2              0                  0               0               0   \n",
       "3              0                  0               0               1   \n",
       "4              0                  0               0               0   \n",
       "\n",
       "   ACK Flag Count  URG Flag Count  Init_Win_bytes_backward  Idle Std  Label  \n",
       "0               0               0                      243       0.0      0  \n",
       "1               0               0                      243       0.0      0  \n",
       "2               1               1                      243       0.0      0  \n",
       "3               0               0                      243       0.0      0  \n",
       "4               1               1                      290       0.0      0  "
      ]
     },
     "execution_count": 10,
     "metadata": {},
     "output_type": "execute_result"
    }
   ],
   "source": [
    "df.head()"
   ]
  },
  {
   "cell_type": "code",
   "execution_count": 11,
   "id": "cc2fabae-cdbb-420a-92df-50956b1099ad",
   "metadata": {},
   "outputs": [],
   "source": [
    "Y = df['Label']\n",
    "X_train, X_test, y_train, y_test = train_test_split(df.drop(columns = ['Label']),\n",
    "                                                    Y,\n",
    "                                                    test_size = 0.3, \n",
    "                                                    shuffle = True, \n",
    "                                                    stratify = Y, \n",
    "                                                    random_state = 0)"
   ]
  },
  {
   "cell_type": "code",
   "execution_count": 12,
   "id": "21f7d62c-ac41-4a39-84be-5f54fc6ded3e",
   "metadata": {},
   "outputs": [],
   "source": [
    "#check and visualize outliers for each feature "
   ]
  },
  {
   "cell_type": "code",
   "execution_count": 13,
   "id": "a6e58e2a-011b-4a3b-b8f7-1c73fc807c9e",
   "metadata": {},
   "outputs": [
    {
     "data": {
      "text/plain": [
       "15"
      ]
     },
     "execution_count": 13,
     "metadata": {},
     "output_type": "execute_result"
    }
   ],
   "source": [
    "numerical_columns = X_train.select_dtypes(include=['float64', 'int64']).columns.tolist()\n",
    "len(numerical_columns)"
   ]
  },
  {
   "cell_type": "code",
   "execution_count": 11,
   "id": "d9d669b7-69f9-4e99-8c92-d9fa477ab7b6",
   "metadata": {},
   "outputs": [
    {
     "data": {
      "image/png": "[encoded data removed]",
      "text/plain": [
       "<Figure size 1800x2400 with 15 Axes>"
      ]
     },
     "metadata": {},
     "output_type": "display_data"
    }
   ],
   "source": [
    "import math\n",
    "\n",
    "# Number of numerical columns\n",
    "num_columns = len(numerical_columns)\n",
    "\n",
    "# Calculate the number of rows and columns needed for the subplots\n",
    "num_cols = 2  # Fixed number of columns\n",
    "num_rows = math.ceil(num_columns / num_cols)  # Calculate rows needed\n",
    "\n",
    "plt.figure(figsize=(18, num_rows * 3))\n",
    "\n",
    "sns.set_palette(\"husl\")\n",
    "sns.set(style=\"whitegrid\")\n",
    "\n",
    "for i, col in enumerate(numerical_columns, 1):\n",
    "    plt.subplot(num_rows, num_cols, i)\n",
    "    sns.boxplot(x=X_train[col], color='skyblue', width=0.5)    \n",
    "    plt.title(col)\n",
    "    plt.xlabel(\"\")\n",
    "\n",
    "plt.suptitle(\"Distribution of Key Medical Indicators\", y=1.02, fontsize=16)\n",
    "plt.tight_layout(rect=[0, 0, 1, 0.95])\n",
    "plt.show()"
   ]
  },
  {
   "cell_type": "code",
   "execution_count": null,
   "id": "ff411f38-1705-4391-a1c0-25d28974c07c",
   "metadata": {},
   "outputs": [],
   "source": [
    "#remove outliers"
   ]
  },
  {
   "cell_type": "code",
   "execution_count": 14,
   "id": "e76f070e-9efc-4b50-bcb8-86d8b222fc18",
   "metadata": {},
   "outputs": [],
   "source": [
    "def remove_outliers(X):\n",
    "    Q1 = X.drop('label',axis=1).quantile(0.1)\n",
    "    Q3 = X.drop('label',axis=1).quantile(0.99)\n",
    "    IQR = Q3 - Q1\n",
    "\n",
    "    mask = ~((X < (Q1 - 1.5 * IQR)) | (X > (Q3 + 1.5 * IQR))).any(axis=1)\n",
    "\n",
    "    return X[mask]"
   ]
  },
  {
   "cell_type": "code",
   "execution_count": 15,
   "id": "07d807d3-e228-44f2-82eb-a43439c846a8",
   "metadata": {},
   "outputs": [],
   "source": [
    "# Removing outliers for each column\n",
    "def remove_outliers_iqr(df, lower_limit =0.25, upper_limit= 0.75):\n",
    "    # Select only numeric columns to apply IQR\n",
    "    numeric_cols = df.select_dtypes(include=['float64', 'int64']).columns\n",
    "    for col in numeric_cols:\n",
    "        Q1 = df[col].quantile(lower_limit )  # 1st quartile\n",
    "        Q3 = df[col].quantile(upper_limit)  # 3rd quartile\n",
    "        IQR = Q3 - Q1                # Interquartile range\n",
    "        \n",
    "        # Define the lower and upper bounds\n",
    "        lower_bound = Q1 - 1.5 * IQR\n",
    "        upper_bound = Q3 + 1.5 * IQR\n",
    "        \n",
    "        # Filter the DataFrame\n",
    "        df = df[(df[col] >= lower_bound) & (df[col] <= upper_bound)]\n",
    "    return df"
   ]
  },
  {
   "cell_type": "code",
   "execution_count": 16,
   "id": "183cf52a-baef-404f-932c-db39862888bb",
   "metadata": {},
   "outputs": [
    {
     "data": {
      "text/plain": [
       "(2520798, 16)"
      ]
     },
     "execution_count": 16,
     "metadata": {},
     "output_type": "execute_result"
    }
   ],
   "source": [
    "df.shape"
   ]
  },
  {
   "cell_type": "code",
   "execution_count": 17,
   "id": "eeceedae-15e1-4e1d-9cdd-b4fde7434fba",
   "metadata": {},
   "outputs": [
    {
     "data": {
      "text/html": [
       "<div>\n",
       "<style scoped>\n",
       "    .dataframe tbody tr th:only-of-type {\n",
       "        vertical-align: middle;\n",
       "    }\n",
       "\n",
       "    .dataframe tbody tr th {\n",
       "        vertical-align: top;\n",
       "    }\n",
       "\n",
       "    .dataframe thead th {\n",
       "        text-align: right;\n",
       "    }\n",
       "</style>\n",
       "<table border=\"1\" class=\"dataframe\">\n",
       "  <thead>\n",
       "    <tr style=\"text-align: right;\">\n",
       "      <th></th>\n",
       "      <th>Destination Port</th>\n",
       "      <th>Flow Duration</th>\n",
       "      <th>Bwd Packet Length Max</th>\n",
       "      <th>Bwd Packet Length Min</th>\n",
       "      <th>Flow IAT Mean</th>\n",
       "      <th>Flow IAT Std</th>\n",
       "      <th>Bwd IAT Std</th>\n",
       "      <th>Fwd PSH Flags</th>\n",
       "      <th>Min Packet Length</th>\n",
       "      <th>FIN Flag Count</th>\n",
       "      <th>PSH Flag Count</th>\n",
       "      <th>ACK Flag Count</th>\n",
       "      <th>URG Flag Count</th>\n",
       "      <th>Init_Win_bytes_backward</th>\n",
       "      <th>Idle Std</th>\n",
       "      <th>Label</th>\n",
       "    </tr>\n",
       "  </thead>\n",
       "  <tbody>\n",
       "    <tr>\n",
       "      <th>17</th>\n",
       "      <td>123</td>\n",
       "      <td>16506</td>\n",
       "      <td>48</td>\n",
       "      <td>48</td>\n",
       "      <td>16506.0</td>\n",
       "      <td>0.00000</td>\n",
       "      <td>0.0</td>\n",
       "      <td>0</td>\n",
       "      <td>48</td>\n",
       "      <td>0</td>\n",
       "      <td>0</td>\n",
       "      <td>0</td>\n",
       "      <td>0</td>\n",
       "      <td>-1</td>\n",
       "      <td>0.0</td>\n",
       "      <td>0</td>\n",
       "    </tr>\n",
       "    <tr>\n",
       "      <th>21</th>\n",
       "      <td>123</td>\n",
       "      <td>86068</td>\n",
       "      <td>48</td>\n",
       "      <td>48</td>\n",
       "      <td>86068.0</td>\n",
       "      <td>0.00000</td>\n",
       "      <td>0.0</td>\n",
       "      <td>0</td>\n",
       "      <td>48</td>\n",
       "      <td>0</td>\n",
       "      <td>0</td>\n",
       "      <td>0</td>\n",
       "      <td>0</td>\n",
       "      <td>-1</td>\n",
       "      <td>0.0</td>\n",
       "      <td>0</td>\n",
       "    </tr>\n",
       "    <tr>\n",
       "      <th>23</th>\n",
       "      <td>53</td>\n",
       "      <td>30465</td>\n",
       "      <td>61</td>\n",
       "      <td>61</td>\n",
       "      <td>30465.0</td>\n",
       "      <td>0.00000</td>\n",
       "      <td>0.0</td>\n",
       "      <td>0</td>\n",
       "      <td>45</td>\n",
       "      <td>0</td>\n",
       "      <td>0</td>\n",
       "      <td>0</td>\n",
       "      <td>0</td>\n",
       "      <td>-1</td>\n",
       "      <td>0.0</td>\n",
       "      <td>0</td>\n",
       "    </tr>\n",
       "    <tr>\n",
       "      <th>24</th>\n",
       "      <td>53</td>\n",
       "      <td>30911</td>\n",
       "      <td>50</td>\n",
       "      <td>50</td>\n",
       "      <td>6182.2</td>\n",
       "      <td>11879.22622</td>\n",
       "      <td>0.0</td>\n",
       "      <td>0</td>\n",
       "      <td>34</td>\n",
       "      <td>0</td>\n",
       "      <td>0</td>\n",
       "      <td>0</td>\n",
       "      <td>0</td>\n",
       "      <td>-1</td>\n",
       "      <td>0.0</td>\n",
       "      <td>0</td>\n",
       "    </tr>\n",
       "    <tr>\n",
       "      <th>26</th>\n",
       "      <td>123</td>\n",
       "      <td>86016</td>\n",
       "      <td>48</td>\n",
       "      <td>48</td>\n",
       "      <td>86016.0</td>\n",
       "      <td>0.00000</td>\n",
       "      <td>0.0</td>\n",
       "      <td>0</td>\n",
       "      <td>48</td>\n",
       "      <td>0</td>\n",
       "      <td>0</td>\n",
       "      <td>0</td>\n",
       "      <td>0</td>\n",
       "      <td>-1</td>\n",
       "      <td>0.0</td>\n",
       "      <td>0</td>\n",
       "    </tr>\n",
       "  </tbody>\n",
       "</table>\n",
       "</div>"
      ],
      "text/plain": [
       "    Destination Port  Flow Duration  Bwd Packet Length Max  \\\n",
       "17               123          16506                     48   \n",
       "21               123          86068                     48   \n",
       "23                53          30465                     61   \n",
       "24                53          30911                     50   \n",
       "26               123          86016                     48   \n",
       "\n",
       "    Bwd Packet Length Min  Flow IAT Mean  Flow IAT Std  Bwd IAT Std  \\\n",
       "17                     48        16506.0       0.00000          0.0   \n",
       "21                     48        86068.0       0.00000          0.0   \n",
       "23                     61        30465.0       0.00000          0.0   \n",
       "24                     50         6182.2   11879.22622          0.0   \n",
       "26                     48        86016.0       0.00000          0.0   \n",
       "\n",
       "    Fwd PSH Flags  Min Packet Length  FIN Flag Count  PSH Flag Count  \\\n",
       "17              0                 48               0               0   \n",
       "21              0                 48               0               0   \n",
       "23              0                 45               0               0   \n",
       "24              0                 34               0               0   \n",
       "26              0                 48               0               0   \n",
       "\n",
       "    ACK Flag Count  URG Flag Count  Init_Win_bytes_backward  Idle Std  Label  \n",
       "17               0               0                       -1       0.0      0  \n",
       "21               0               0                       -1       0.0      0  \n",
       "23               0               0                       -1       0.0      0  \n",
       "24               0               0                       -1       0.0      0  \n",
       "26               0               0                       -1       0.0      0  "
      ]
     },
     "execution_count": 17,
     "metadata": {},
     "output_type": "execute_result"
    }
   ],
   "source": [
    "# Apply the function to remove outliers\n",
    "df_cleaned = remove_outliers_iqr(df)\n",
    "\n",
    "# Display the cleaned DataFrame\n",
    "df_cleaned.head()"
   ]
  },
  {
   "cell_type": "code",
   "execution_count": 18,
   "id": "ded5268c-e185-435c-a311-65293ca99756",
   "metadata": {},
   "outputs": [
    {
     "data": {
      "text/plain": [
       "(2520798, 16)"
      ]
     },
     "execution_count": 18,
     "metadata": {},
     "output_type": "execute_result"
    }
   ],
   "source": [
    "df.shape#no records removed!!!"
   ]
  },
  {
   "cell_type": "code",
   "execution_count": 19,
   "id": "5c8a798b-2815-4335-a461-1b6e847cf005",
   "metadata": {},
   "outputs": [
    {
     "data": {
      "text/plain": [
       "(1764558,)"
      ]
     },
     "execution_count": 19,
     "metadata": {},
     "output_type": "execute_result"
    }
   ],
   "source": [
    "y_train.shape"
   ]
  },
  {
   "cell_type": "code",
   "execution_count": 20,
   "id": "d637bde4-6cf2-4ee3-abbd-444a506bd4df",
   "metadata": {},
   "outputs": [
    {
     "data": {
      "text/plain": [
       "Label\n",
       "0    1466539\n",
       "1     298019\n",
       "Name: count, dtype: int64"
      ]
     },
     "execution_count": 20,
     "metadata": {},
     "output_type": "execute_result"
    }
   ],
   "source": [
    "y_train.value_counts()"
   ]
  },
  {
   "cell_type": "code",
   "execution_count": 21,
   "id": "31b7ef11-de65-492e-80fa-fbb9166ba9fd",
   "metadata": {},
   "outputs": [
    {
     "data": {
      "text/plain": [
       "(1764558, 15)"
      ]
     },
     "execution_count": 21,
     "metadata": {},
     "output_type": "execute_result"
    }
   ],
   "source": [
    "X_train.shape"
   ]
  },
  {
   "cell_type": "code",
   "execution_count": 22,
   "id": "6ba2878a-4540-4d49-9787-8756ecb0d5a9",
   "metadata": {},
   "outputs": [
    {
     "data": {
      "text/plain": [
       "(1764558, 16)"
      ]
     },
     "execution_count": 22,
     "metadata": {},
     "output_type": "execute_result"
    }
   ],
   "source": [
    "#note ROS done on training data only:\n",
    "train = pd.concat([X_train, y_train],axis = 1)\n",
    "train.shape"
   ]
  },
  {
   "cell_type": "code",
   "execution_count": 23,
   "id": "d29c1e2c-4659-4c2b-8a39-247c611fdd38",
   "metadata": {},
   "outputs": [
    {
     "data": {
      "text/plain": [
       "Label\n",
       "0    1466539\n",
       "1     298019\n",
       "Name: count, dtype: int64"
      ]
     },
     "execution_count": 23,
     "metadata": {},
     "output_type": "execute_result"
    }
   ],
   "source": [
    "train['Label'].value_counts()"
   ]
  },
  {
   "cell_type": "code",
   "execution_count": 26,
   "id": "b42dcb92-e0e9-4815-bf6f-816ed715cd3f",
   "metadata": {},
   "outputs": [],
   "source": [
    "def down_sample(df_, majority_remained ,target_column_name = 'Label',  majority_label = 0, mininority_label = 1):\n",
    "    # Assume 'target' is your label column, and the rest are feature columns\n",
    "    # Separate majority and minority classes\n",
    "    majority_class = df_[df_[target_column_name] == majority_label]  # Replace 0 with your majority class label\n",
    "    minority_class = df_[df_[target_column_name] == mininority_label]  # Replace 1 with your minority class label\n",
    "    \n",
    "    # Down-sample the majority class\n",
    "    majority_downsampled = resample(majority_class, \n",
    "                                    replace=False,    # sample without replacement\n",
    "                                    n_samples=majority_remained, #len(minority_class),  # match minority class size\n",
    "                                    random_state=42)  # reproducible results\n",
    "    \n",
    "    # Combine minority class with the down-sampled majority class\n",
    "\n",
    "    df_downsampled = pd.concat([majority_downsampled, minority_class]).sample(frac = 1)\n",
    "    return df_downsampled\n"
   ]
  },
  {
   "cell_type": "code",
   "execution_count": 27,
   "id": "6826d9b7-825f-44f1-b1fe-626a925c7eff",
   "metadata": {},
   "outputs": [],
   "source": [
    "train_downsampled = down_sample(train, 766539 )"
   ]
  },
  {
   "cell_type": "code",
   "execution_count": 34,
   "id": "b7013e47-371e-451b-9b7d-0c66022f6fd1",
   "metadata": {},
   "outputs": [
    {
     "data": {
      "text/plain": [
       "(1064558, 16)"
      ]
     },
     "execution_count": 34,
     "metadata": {},
     "output_type": "execute_result"
    }
   ],
   "source": [
    "train_downsampled.shape"
   ]
  },
  {
   "cell_type": "code",
   "execution_count": 28,
   "id": "a4065171-1b27-4214-a4d0-1c4f08c408f1",
   "metadata": {},
   "outputs": [
    {
     "data": {
      "text/plain": [
       "Label\n",
       "0    766539\n",
       "1    298019\n",
       "Name: count, dtype: int64"
      ]
     },
     "execution_count": 28,
     "metadata": {},
     "output_type": "execute_result"
    }
   ],
   "source": [
    "# Display the class distribution after down-sampling\n",
    "train_downsampled['Label'].value_counts()"
   ]
  },
  {
   "cell_type": "code",
   "execution_count": 29,
   "id": "51db98dc-ea1e-4987-b1ea-3bfc20c6336f",
   "metadata": {},
   "outputs": [
    {
     "data": {
      "text/plain": [
       "Label\n",
       "0    1466539\n",
       "1     298019\n",
       "Name: count, dtype: int64"
      ]
     },
     "execution_count": 29,
     "metadata": {},
     "output_type": "execute_result"
    }
   ],
   "source": [
    "train['Label'].value_counts()"
   ]
  },
  {
   "cell_type": "code",
   "execution_count": 30,
   "id": "27c67ab9-6709-44c9-8a8b-ef79b107c150",
   "metadata": {},
   "outputs": [
    {
     "data": {
      "text/html": [
       "<div>\n",
       "<style scoped>\n",
       "    .dataframe tbody tr th:only-of-type {\n",
       "        vertical-align: middle;\n",
       "    }\n",
       "\n",
       "    .dataframe tbody tr th {\n",
       "        vertical-align: top;\n",
       "    }\n",
       "\n",
       "    .dataframe thead th {\n",
       "        text-align: right;\n",
       "    }\n",
       "</style>\n",
       "<table border=\"1\" class=\"dataframe\">\n",
       "  <thead>\n",
       "    <tr style=\"text-align: right;\">\n",
       "      <th></th>\n",
       "      <th>Destination Port</th>\n",
       "      <th>Flow Duration</th>\n",
       "      <th>Bwd Packet Length Max</th>\n",
       "      <th>Bwd Packet Length Min</th>\n",
       "      <th>Flow IAT Mean</th>\n",
       "      <th>Flow IAT Std</th>\n",
       "      <th>Bwd IAT Std</th>\n",
       "      <th>Fwd PSH Flags</th>\n",
       "      <th>Min Packet Length</th>\n",
       "      <th>FIN Flag Count</th>\n",
       "      <th>PSH Flag Count</th>\n",
       "      <th>ACK Flag Count</th>\n",
       "      <th>URG Flag Count</th>\n",
       "      <th>Init_Win_bytes_backward</th>\n",
       "      <th>Idle Std</th>\n",
       "      <th>Label</th>\n",
       "    </tr>\n",
       "  </thead>\n",
       "  <tbody>\n",
       "    <tr>\n",
       "      <th>750354</th>\n",
       "      <td>443</td>\n",
       "      <td>260576</td>\n",
       "      <td>1460</td>\n",
       "      <td>0</td>\n",
       "      <td>2.368873e+04</td>\n",
       "      <td>3.938912e+04</td>\n",
       "      <td>46759.881487</td>\n",
       "      <td>0</td>\n",
       "      <td>0</td>\n",
       "      <td>0</td>\n",
       "      <td>1</td>\n",
       "      <td>0</td>\n",
       "      <td>0</td>\n",
       "      <td>60</td>\n",
       "      <td>0.0</td>\n",
       "      <td>0</td>\n",
       "    </tr>\n",
       "    <tr>\n",
       "      <th>1138442</th>\n",
       "      <td>57588</td>\n",
       "      <td>3</td>\n",
       "      <td>0</td>\n",
       "      <td>0</td>\n",
       "      <td>3.000000e+00</td>\n",
       "      <td>0.000000e+00</td>\n",
       "      <td>0.000000</td>\n",
       "      <td>0</td>\n",
       "      <td>0</td>\n",
       "      <td>0</td>\n",
       "      <td>0</td>\n",
       "      <td>1</td>\n",
       "      <td>0</td>\n",
       "      <td>-1</td>\n",
       "      <td>0.0</td>\n",
       "      <td>0</td>\n",
       "    </tr>\n",
       "    <tr>\n",
       "      <th>2414854</th>\n",
       "      <td>80</td>\n",
       "      <td>100078992</td>\n",
       "      <td>5792</td>\n",
       "      <td>0</td>\n",
       "      <td>7.148499e+06</td>\n",
       "      <td>2.640000e+07</td>\n",
       "      <td>58791.072560</td>\n",
       "      <td>0</td>\n",
       "      <td>0</td>\n",
       "      <td>0</td>\n",
       "      <td>0</td>\n",
       "      <td>1</td>\n",
       "      <td>0</td>\n",
       "      <td>235</td>\n",
       "      <td>0.0</td>\n",
       "      <td>1</td>\n",
       "    </tr>\n",
       "    <tr>\n",
       "      <th>2695223</th>\n",
       "      <td>51947</td>\n",
       "      <td>222</td>\n",
       "      <td>0</td>\n",
       "      <td>0</td>\n",
       "      <td>2.220000e+02</td>\n",
       "      <td>0.000000e+00</td>\n",
       "      <td>0.000000</td>\n",
       "      <td>0</td>\n",
       "      <td>0</td>\n",
       "      <td>0</td>\n",
       "      <td>0</td>\n",
       "      <td>1</td>\n",
       "      <td>1</td>\n",
       "      <td>65535</td>\n",
       "      <td>0.0</td>\n",
       "      <td>0</td>\n",
       "    </tr>\n",
       "    <tr>\n",
       "      <th>1733984</th>\n",
       "      <td>21</td>\n",
       "      <td>234</td>\n",
       "      <td>0</td>\n",
       "      <td>0</td>\n",
       "      <td>1.170000e+02</td>\n",
       "      <td>4.384062e+01</td>\n",
       "      <td>0.000000</td>\n",
       "      <td>1</td>\n",
       "      <td>0</td>\n",
       "      <td>0</td>\n",
       "      <td>0</td>\n",
       "      <td>1</td>\n",
       "      <td>0</td>\n",
       "      <td>0</td>\n",
       "      <td>0.0</td>\n",
       "      <td>1</td>\n",
       "    </tr>\n",
       "  </tbody>\n",
       "</table>\n",
       "</div>"
      ],
      "text/plain": [
       "         Destination Port  Flow Duration  Bwd Packet Length Max  \\\n",
       "750354                443         260576                   1460   \n",
       "1138442             57588              3                      0   \n",
       "2414854                80      100078992                   5792   \n",
       "2695223             51947            222                      0   \n",
       "1733984                21            234                      0   \n",
       "\n",
       "         Bwd Packet Length Min  Flow IAT Mean  Flow IAT Std   Bwd IAT Std  \\\n",
       "750354                       0   2.368873e+04  3.938912e+04  46759.881487   \n",
       "1138442                      0   3.000000e+00  0.000000e+00      0.000000   \n",
       "2414854                      0   7.148499e+06  2.640000e+07  58791.072560   \n",
       "2695223                      0   2.220000e+02  0.000000e+00      0.000000   \n",
       "1733984                      0   1.170000e+02  4.384062e+01      0.000000   \n",
       "\n",
       "         Fwd PSH Flags  Min Packet Length  FIN Flag Count  PSH Flag Count  \\\n",
       "750354               0                  0               0               1   \n",
       "1138442              0                  0               0               0   \n",
       "2414854              0                  0               0               0   \n",
       "2695223              0                  0               0               0   \n",
       "1733984              1                  0               0               0   \n",
       "\n",
       "         ACK Flag Count  URG Flag Count  Init_Win_bytes_backward  Idle Std  \\\n",
       "750354                0               0                       60       0.0   \n",
       "1138442               1               0                       -1       0.0   \n",
       "2414854               1               0                      235       0.0   \n",
       "2695223               1               1                    65535       0.0   \n",
       "1733984               1               0                        0       0.0   \n",
       "\n",
       "         Label  \n",
       "750354       0  \n",
       "1138442      0  \n",
       "2414854      1  \n",
       "2695223      0  \n",
       "1733984      1  "
      ]
     },
     "execution_count": 30,
     "metadata": {},
     "output_type": "execute_result"
    }
   ],
   "source": [
    "train_downsampled.head()"
   ]
  },
  {
   "cell_type": "code",
   "execution_count": 37,
   "id": "8b3e8795-8d1f-4a04-907c-69db5aff8f67",
   "metadata": {},
   "outputs": [],
   "source": [
    "#from DGM preprocessing code implementation\n",
    "def preprocess(x_train, x_test, data_cols, preprocessor = \"StandardScaler\",reject_features=False):\n",
    "    \"\"\"\n",
    "    Scale and transform data with an option to remove highly correlated features\n",
    "    \"\"\"\n",
    "    if reject_features :\n",
    "        to_drop =  dropped_featues\n",
    "        x_train.drop(to_drop,axis=1,inplace=True)\n",
    "        x_test.drop(to_drop,axis=1,inplace=True)\n",
    "        data_cols = list(x_train.columns)[:-2]\n",
    "\n",
    "    if preprocessor == \"MinMax\":\n",
    "        scaler = MinMaxScaler(feature_range=(0, 1))\n",
    "        x_train_transformed = scaler.fit_transform(x_train[data_cols])\n",
    "        x_test_transformed = scaler.transform(x_test[data_cols])\n",
    "        return x_train_transformed, x_test_transformed\n",
    "\n",
    "    if preprocessor == \"Robust\":\n",
    "        scaler = RobustScaler(quantile_range=(0.1, 99))\n",
    "        x_train_transformed = scaler.fit_transform(x_train[data_cols])\n",
    "        x_test_transformed  = scaler.transform(x_test[data_cols])\n",
    "        return x_train_transformed , x_test_transformed\n",
    "\n",
    "    if preprocessor == \"power_transform\":\n",
    "        pt = PowerTransformer(method=\"yeo-johnson\")\n",
    "        x_train_transformed = pt.fit_transform(x_train[data_cols])\n",
    "        x_test_transformed = pt.transform(x_test[data_cols])\n",
    "        return x_train_transformed , x_test_transformed\n",
    "\n",
    "    else :\n",
    "        scaler = StandardScaler()\n",
    "        x_train_transformed  = scaler.fit_transform(x_train[data_cols])\n",
    "        x_test_transformed = scaler.transform(x_test[data_cols])\n",
    "        return x_train_transformed, x_test_transformed"
   ]
  },
  {
   "cell_type": "code",
   "execution_count": 31,
   "id": "38f505f8-bf3b-4cff-b938-a11e6c2d24e1",
   "metadata": {},
   "outputs": [],
   "source": [
    "X_train = train_downsampled.drop(['Label'],axis =1 )\n",
    "Y_train =  train_downsampled['Label']"
   ]
  },
  {
   "cell_type": "code",
   "execution_count": 32,
   "id": "1d5f1647-35fd-4794-a572-2e4b965b325d",
   "metadata": {},
   "outputs": [],
   "source": [
    "data_cols = X_train.columns"
   ]
  },
  {
   "cell_type": "code",
   "execution_count": 22,
   "id": "9c63e022-2029-404c-ba2a-d55cf99805b4",
   "metadata": {},
   "outputs": [
    {
     "data": {
      "text/html": [
       "<div>\n",
       "<style scoped>\n",
       "    .dataframe tbody tr th:only-of-type {\n",
       "        vertical-align: middle;\n",
       "    }\n",
       "\n",
       "    .dataframe tbody tr th {\n",
       "        vertical-align: top;\n",
       "    }\n",
       "\n",
       "    .dataframe thead th {\n",
       "        text-align: right;\n",
       "    }\n",
       "</style>\n",
       "<table border=\"1\" class=\"dataframe\">\n",
       "  <thead>\n",
       "    <tr style=\"text-align: right;\">\n",
       "      <th></th>\n",
       "      <th>Destination Port</th>\n",
       "      <th>Flow Duration</th>\n",
       "      <th>Bwd Packet Length Max</th>\n",
       "      <th>Bwd Packet Length Min</th>\n",
       "      <th>Flow IAT Mean</th>\n",
       "      <th>Flow IAT Std</th>\n",
       "      <th>Bwd IAT Std</th>\n",
       "      <th>Fwd PSH Flags</th>\n",
       "      <th>Min Packet Length</th>\n",
       "      <th>FIN Flag Count</th>\n",
       "      <th>PSH Flag Count</th>\n",
       "      <th>ACK Flag Count</th>\n",
       "      <th>URG Flag Count</th>\n",
       "      <th>Init_Win_bytes_backward</th>\n",
       "      <th>Idle Std</th>\n",
       "    </tr>\n",
       "  </thead>\n",
       "  <tbody>\n",
       "    <tr>\n",
       "      <th>345967</th>\n",
       "      <td>80</td>\n",
       "      <td>32511418</td>\n",
       "      <td>1806</td>\n",
       "      <td>0</td>\n",
       "      <td>2.500878e+06</td>\n",
       "      <td>4.414922e+06</td>\n",
       "      <td>5.323816e+06</td>\n",
       "      <td>0</td>\n",
       "      <td>0</td>\n",
       "      <td>0</td>\n",
       "      <td>1</td>\n",
       "      <td>0</td>\n",
       "      <td>0</td>\n",
       "      <td>939</td>\n",
       "      <td>4086.846013</td>\n",
       "    </tr>\n",
       "    <tr>\n",
       "      <th>593126</th>\n",
       "      <td>443</td>\n",
       "      <td>193333</td>\n",
       "      <td>1460</td>\n",
       "      <td>0</td>\n",
       "      <td>1.757573e+04</td>\n",
       "      <td>3.377168e+04</td>\n",
       "      <td>4.350851e+04</td>\n",
       "      <td>0</td>\n",
       "      <td>0</td>\n",
       "      <td>0</td>\n",
       "      <td>1</td>\n",
       "      <td>0</td>\n",
       "      <td>0</td>\n",
       "      <td>60</td>\n",
       "      <td>0.000000</td>\n",
       "    </tr>\n",
       "    <tr>\n",
       "      <th>1012721</th>\n",
       "      <td>443</td>\n",
       "      <td>435704</td>\n",
       "      <td>773</td>\n",
       "      <td>0</td>\n",
       "      <td>2.562965e+04</td>\n",
       "      <td>4.491948e+04</td>\n",
       "      <td>6.791098e+04</td>\n",
       "      <td>0</td>\n",
       "      <td>0</td>\n",
       "      <td>0</td>\n",
       "      <td>1</td>\n",
       "      <td>0</td>\n",
       "      <td>0</td>\n",
       "      <td>5186</td>\n",
       "      <td>0.000000</td>\n",
       "    </tr>\n",
       "    <tr>\n",
       "      <th>671504</th>\n",
       "      <td>53</td>\n",
       "      <td>289</td>\n",
       "      <td>144</td>\n",
       "      <td>144</td>\n",
       "      <td>9.633333e+01</td>\n",
       "      <td>1.651222e+02</td>\n",
       "      <td>0.000000e+00</td>\n",
       "      <td>0</td>\n",
       "      <td>30</td>\n",
       "      <td>0</td>\n",
       "      <td>0</td>\n",
       "      <td>0</td>\n",
       "      <td>0</td>\n",
       "      <td>-1</td>\n",
       "      <td>0.000000</td>\n",
       "    </tr>\n",
       "    <tr>\n",
       "      <th>2452478</th>\n",
       "      <td>53</td>\n",
       "      <td>252129</td>\n",
       "      <td>202</td>\n",
       "      <td>202</td>\n",
       "      <td>2.521290e+05</td>\n",
       "      <td>0.000000e+00</td>\n",
       "      <td>0.000000e+00</td>\n",
       "      <td>0</td>\n",
       "      <td>58</td>\n",
       "      <td>0</td>\n",
       "      <td>0</td>\n",
       "      <td>0</td>\n",
       "      <td>0</td>\n",
       "      <td>-1</td>\n",
       "      <td>0.000000</td>\n",
       "    </tr>\n",
       "  </tbody>\n",
       "</table>\n",
       "</div>"
      ],
      "text/plain": [
       "         Destination Port  Flow Duration  Bwd Packet Length Max  \\\n",
       "345967                 80       32511418                   1806   \n",
       "593126                443         193333                   1460   \n",
       "1012721               443         435704                    773   \n",
       "671504                 53            289                    144   \n",
       "2452478                53         252129                    202   \n",
       "\n",
       "         Bwd Packet Length Min  Flow IAT Mean  Flow IAT Std   Bwd IAT Std  \\\n",
       "345967                       0   2.500878e+06  4.414922e+06  5.323816e+06   \n",
       "593126                       0   1.757573e+04  3.377168e+04  4.350851e+04   \n",
       "1012721                      0   2.562965e+04  4.491948e+04  6.791098e+04   \n",
       "671504                     144   9.633333e+01  1.651222e+02  0.000000e+00   \n",
       "2452478                    202   2.521290e+05  0.000000e+00  0.000000e+00   \n",
       "\n",
       "         Fwd PSH Flags  Min Packet Length  FIN Flag Count  PSH Flag Count  \\\n",
       "345967               0                  0               0               1   \n",
       "593126               0                  0               0               1   \n",
       "1012721              0                  0               0               1   \n",
       "671504               0                 30               0               0   \n",
       "2452478              0                 58               0               0   \n",
       "\n",
       "         ACK Flag Count  URG Flag Count  Init_Win_bytes_backward     Idle Std  \n",
       "345967                0               0                      939  4086.846013  \n",
       "593126                0               0                       60     0.000000  \n",
       "1012721               0               0                     5186     0.000000  \n",
       "671504                0               0                       -1     0.000000  \n",
       "2452478               0               0                       -1     0.000000  "
      ]
     },
     "execution_count": 22,
     "metadata": {},
     "output_type": "execute_result"
    }
   ],
   "source": [
    "X_train.head()"
   ]
  },
  {
   "cell_type": "code",
   "execution_count": null,
   "id": "3e7de225-63d6-472e-81c2-ed09fd4959fd",
   "metadata": {},
   "outputs": [],
   "source": [
    "#we selected min-max transformation\n",
    "1064558"
   ]
  },
  {
   "cell_type": "code",
   "execution_count": 33,
   "id": "8befe06c-7491-4cd9-ba45-165f5bed2a63",
   "metadata": {},
   "outputs": [
    {
     "data": {
      "text/plain": [
       "((1064558, 15), (1064558,))"
      ]
     },
     "execution_count": 33,
     "metadata": {},
     "output_type": "execute_result"
    }
   ],
   "source": [
    "X_train.shape , Y_train.shape"
   ]
  },
  {
   "cell_type": "code",
   "execution_count": 35,
   "id": "7991ca20-cfd8-4f62-87c4-27e0415a4370",
   "metadata": {},
   "outputs": [
    {
     "data": {
      "text/plain": [
       "((756240, 15), (756240,))"
      ]
     },
     "execution_count": 35,
     "metadata": {},
     "output_type": "execute_result"
    }
   ],
   "source": [
    "X_test.shape , y_test.shape"
   ]
  },
  {
   "cell_type": "code",
   "execution_count": 38,
   "id": "e243f209-d9c3-47d5-9006-c1b5b546cad5",
   "metadata": {},
   "outputs": [],
   "source": [
    "x_train, x_test =preprocess(X_train, X_test, data_cols, preprocessor = \"MinMax\",reject_features=False)"
   ]
  },
  {
   "cell_type": "code",
   "execution_count": 39,
   "id": "3e323ffe-9fe7-4853-b2f3-882ce8600e6a",
   "metadata": {},
   "outputs": [
    {
     "data": {
      "text/html": [
       "<div>\n",
       "<style scoped>\n",
       "    .dataframe tbody tr th:only-of-type {\n",
       "        vertical-align: middle;\n",
       "    }\n",
       "\n",
       "    .dataframe tbody tr th {\n",
       "        vertical-align: top;\n",
       "    }\n",
       "\n",
       "    .dataframe thead th {\n",
       "        text-align: right;\n",
       "    }\n",
       "</style>\n",
       "<table border=\"1\" class=\"dataframe\">\n",
       "  <thead>\n",
       "    <tr style=\"text-align: right;\">\n",
       "      <th></th>\n",
       "      <th>Destination Port</th>\n",
       "      <th>Flow Duration</th>\n",
       "      <th>Bwd Packet Length Max</th>\n",
       "      <th>Bwd Packet Length Min</th>\n",
       "      <th>Flow IAT Mean</th>\n",
       "      <th>Flow IAT Std</th>\n",
       "      <th>Bwd IAT Std</th>\n",
       "      <th>Fwd PSH Flags</th>\n",
       "      <th>Min Packet Length</th>\n",
       "      <th>FIN Flag Count</th>\n",
       "      <th>PSH Flag Count</th>\n",
       "      <th>ACK Flag Count</th>\n",
       "      <th>URG Flag Count</th>\n",
       "      <th>Init_Win_bytes_backward</th>\n",
       "      <th>Idle Std</th>\n",
       "    </tr>\n",
       "  </thead>\n",
       "  <tbody>\n",
       "    <tr>\n",
       "      <th>750354</th>\n",
       "      <td>443</td>\n",
       "      <td>260576</td>\n",
       "      <td>1460</td>\n",
       "      <td>0</td>\n",
       "      <td>2.368873e+04</td>\n",
       "      <td>3.938912e+04</td>\n",
       "      <td>46759.881487</td>\n",
       "      <td>0</td>\n",
       "      <td>0</td>\n",
       "      <td>0</td>\n",
       "      <td>1</td>\n",
       "      <td>0</td>\n",
       "      <td>0</td>\n",
       "      <td>60</td>\n",
       "      <td>0.0</td>\n",
       "    </tr>\n",
       "    <tr>\n",
       "      <th>1138442</th>\n",
       "      <td>57588</td>\n",
       "      <td>3</td>\n",
       "      <td>0</td>\n",
       "      <td>0</td>\n",
       "      <td>3.000000e+00</td>\n",
       "      <td>0.000000e+00</td>\n",
       "      <td>0.000000</td>\n",
       "      <td>0</td>\n",
       "      <td>0</td>\n",
       "      <td>0</td>\n",
       "      <td>0</td>\n",
       "      <td>1</td>\n",
       "      <td>0</td>\n",
       "      <td>-1</td>\n",
       "      <td>0.0</td>\n",
       "    </tr>\n",
       "    <tr>\n",
       "      <th>2414854</th>\n",
       "      <td>80</td>\n",
       "      <td>100078992</td>\n",
       "      <td>5792</td>\n",
       "      <td>0</td>\n",
       "      <td>7.148499e+06</td>\n",
       "      <td>2.640000e+07</td>\n",
       "      <td>58791.072560</td>\n",
       "      <td>0</td>\n",
       "      <td>0</td>\n",
       "      <td>0</td>\n",
       "      <td>0</td>\n",
       "      <td>1</td>\n",
       "      <td>0</td>\n",
       "      <td>235</td>\n",
       "      <td>0.0</td>\n",
       "    </tr>\n",
       "    <tr>\n",
       "      <th>2695223</th>\n",
       "      <td>51947</td>\n",
       "      <td>222</td>\n",
       "      <td>0</td>\n",
       "      <td>0</td>\n",
       "      <td>2.220000e+02</td>\n",
       "      <td>0.000000e+00</td>\n",
       "      <td>0.000000</td>\n",
       "      <td>0</td>\n",
       "      <td>0</td>\n",
       "      <td>0</td>\n",
       "      <td>0</td>\n",
       "      <td>1</td>\n",
       "      <td>1</td>\n",
       "      <td>65535</td>\n",
       "      <td>0.0</td>\n",
       "    </tr>\n",
       "    <tr>\n",
       "      <th>1733984</th>\n",
       "      <td>21</td>\n",
       "      <td>234</td>\n",
       "      <td>0</td>\n",
       "      <td>0</td>\n",
       "      <td>1.170000e+02</td>\n",
       "      <td>4.384062e+01</td>\n",
       "      <td>0.000000</td>\n",
       "      <td>1</td>\n",
       "      <td>0</td>\n",
       "      <td>0</td>\n",
       "      <td>0</td>\n",
       "      <td>1</td>\n",
       "      <td>0</td>\n",
       "      <td>0</td>\n",
       "      <td>0.0</td>\n",
       "    </tr>\n",
       "  </tbody>\n",
       "</table>\n",
       "</div>"
      ],
      "text/plain": [
       "         Destination Port  Flow Duration  Bwd Packet Length Max  \\\n",
       "750354                443         260576                   1460   \n",
       "1138442             57588              3                      0   \n",
       "2414854                80      100078992                   5792   \n",
       "2695223             51947            222                      0   \n",
       "1733984                21            234                      0   \n",
       "\n",
       "         Bwd Packet Length Min  Flow IAT Mean  Flow IAT Std   Bwd IAT Std  \\\n",
       "750354                       0   2.368873e+04  3.938912e+04  46759.881487   \n",
       "1138442                      0   3.000000e+00  0.000000e+00      0.000000   \n",
       "2414854                      0   7.148499e+06  2.640000e+07  58791.072560   \n",
       "2695223                      0   2.220000e+02  0.000000e+00      0.000000   \n",
       "1733984                      0   1.170000e+02  4.384062e+01      0.000000   \n",
       "\n",
       "         Fwd PSH Flags  Min Packet Length  FIN Flag Count  PSH Flag Count  \\\n",
       "750354               0                  0               0               1   \n",
       "1138442              0                  0               0               0   \n",
       "2414854              0                  0               0               0   \n",
       "2695223              0                  0               0               0   \n",
       "1733984              1                  0               0               0   \n",
       "\n",
       "         ACK Flag Count  URG Flag Count  Init_Win_bytes_backward  Idle Std  \n",
       "750354                0               0                       60       0.0  \n",
       "1138442               1               0                       -1       0.0  \n",
       "2414854               1               0                      235       0.0  \n",
       "2695223               1               1                    65535       0.0  \n",
       "1733984               1               0                        0       0.0  "
      ]
     },
     "execution_count": 39,
     "metadata": {},
     "output_type": "execute_result"
    }
   ],
   "source": [
    "#before transimission:\n",
    "X_train.head()"
   ]
  },
  {
   "cell_type": "code",
   "execution_count": 40,
   "id": "bc0a6fbf-ee2c-400b-877b-30d4645e0929",
   "metadata": {},
   "outputs": [],
   "source": [
    "x_train = pd.DataFrame(x_train, columns= data_cols)\n",
    "x_test = pd.DataFrame(x_test, columns= data_cols)"
   ]
  },
  {
   "cell_type": "code",
   "execution_count": 55,
   "id": "6856a2b0-48ba-4891-9125-db3a2da6263c",
   "metadata": {},
   "outputs": [
    {
     "data": {
      "text/plain": [
       "(756240, 15)"
      ]
     },
     "execution_count": 55,
     "metadata": {},
     "output_type": "execute_result"
    }
   ],
   "source": [
    "x_test.shape"
   ]
  },
  {
   "cell_type": "code",
   "execution_count": 41,
   "id": "1109f4b5-d387-4f61-aa3b-f50fbdb166ac",
   "metadata": {},
   "outputs": [
    {
     "data": {
      "text/html": [
       "<div>\n",
       "<style scoped>\n",
       "    .dataframe tbody tr th:only-of-type {\n",
       "        vertical-align: middle;\n",
       "    }\n",
       "\n",
       "    .dataframe tbody tr th {\n",
       "        vertical-align: top;\n",
       "    }\n",
       "\n",
       "    .dataframe thead th {\n",
       "        text-align: right;\n",
       "    }\n",
       "</style>\n",
       "<table border=\"1\" class=\"dataframe\">\n",
       "  <thead>\n",
       "    <tr style=\"text-align: right;\">\n",
       "      <th></th>\n",
       "      <th>Destination Port</th>\n",
       "      <th>Flow Duration</th>\n",
       "      <th>Bwd Packet Length Max</th>\n",
       "      <th>Bwd Packet Length Min</th>\n",
       "      <th>Flow IAT Mean</th>\n",
       "      <th>Flow IAT Std</th>\n",
       "      <th>Bwd IAT Std</th>\n",
       "      <th>Fwd PSH Flags</th>\n",
       "      <th>Min Packet Length</th>\n",
       "      <th>FIN Flag Count</th>\n",
       "      <th>PSH Flag Count</th>\n",
       "      <th>ACK Flag Count</th>\n",
       "      <th>URG Flag Count</th>\n",
       "      <th>Init_Win_bytes_backward</th>\n",
       "      <th>Idle Std</th>\n",
       "    </tr>\n",
       "  </thead>\n",
       "  <tbody>\n",
       "    <tr>\n",
       "      <th>0</th>\n",
       "      <td>0.006760</td>\n",
       "      <td>2.171575e-03</td>\n",
       "      <td>0.074757</td>\n",
       "      <td>0.0</td>\n",
       "      <td>1.975144e-04</td>\n",
       "      <td>4.644943e-04</td>\n",
       "      <td>0.000563</td>\n",
       "      <td>0.0</td>\n",
       "      <td>0.0</td>\n",
       "      <td>0.0</td>\n",
       "      <td>1.0</td>\n",
       "      <td>0.0</td>\n",
       "      <td>0.0</td>\n",
       "      <td>0.000931</td>\n",
       "      <td>0.0</td>\n",
       "    </tr>\n",
       "    <tr>\n",
       "      <th>1</th>\n",
       "      <td>0.878750</td>\n",
       "      <td>1.333333e-07</td>\n",
       "      <td>0.000000</td>\n",
       "      <td>0.0</td>\n",
       "      <td>1.333333e-07</td>\n",
       "      <td>0.000000e+00</td>\n",
       "      <td>0.000000</td>\n",
       "      <td>0.0</td>\n",
       "      <td>0.0</td>\n",
       "      <td>0.0</td>\n",
       "      <td>0.0</td>\n",
       "      <td>1.0</td>\n",
       "      <td>0.0</td>\n",
       "      <td>0.000000</td>\n",
       "      <td>0.0</td>\n",
       "    </tr>\n",
       "    <tr>\n",
       "      <th>2</th>\n",
       "      <td>0.001221</td>\n",
       "      <td>8.339916e-01</td>\n",
       "      <td>0.296569</td>\n",
       "      <td>0.0</td>\n",
       "      <td>5.957093e-02</td>\n",
       "      <td>3.113208e-01</td>\n",
       "      <td>0.000708</td>\n",
       "      <td>0.0</td>\n",
       "      <td>0.0</td>\n",
       "      <td>0.0</td>\n",
       "      <td>0.0</td>\n",
       "      <td>1.0</td>\n",
       "      <td>0.0</td>\n",
       "      <td>0.003601</td>\n",
       "      <td>0.0</td>\n",
       "    </tr>\n",
       "    <tr>\n",
       "      <th>3</th>\n",
       "      <td>0.792673</td>\n",
       "      <td>1.958333e-06</td>\n",
       "      <td>0.000000</td>\n",
       "      <td>0.0</td>\n",
       "      <td>1.958333e-06</td>\n",
       "      <td>0.000000e+00</td>\n",
       "      <td>0.000000</td>\n",
       "      <td>0.0</td>\n",
       "      <td>0.0</td>\n",
       "      <td>0.0</td>\n",
       "      <td>0.0</td>\n",
       "      <td>1.0</td>\n",
       "      <td>1.0</td>\n",
       "      <td>1.000000</td>\n",
       "      <td>0.0</td>\n",
       "    </tr>\n",
       "    <tr>\n",
       "      <th>4</th>\n",
       "      <td>0.000320</td>\n",
       "      <td>2.058333e-06</td>\n",
       "      <td>0.000000</td>\n",
       "      <td>0.0</td>\n",
       "      <td>1.083333e-06</td>\n",
       "      <td>5.169884e-07</td>\n",
       "      <td>0.000000</td>\n",
       "      <td>1.0</td>\n",
       "      <td>0.0</td>\n",
       "      <td>0.0</td>\n",
       "      <td>0.0</td>\n",
       "      <td>1.0</td>\n",
       "      <td>0.0</td>\n",
       "      <td>0.000015</td>\n",
       "      <td>0.0</td>\n",
       "    </tr>\n",
       "  </tbody>\n",
       "</table>\n",
       "</div>"
      ],
      "text/plain": [
       "   Destination Port  Flow Duration  Bwd Packet Length Max  \\\n",
       "0          0.006760   2.171575e-03               0.074757   \n",
       "1          0.878750   1.333333e-07               0.000000   \n",
       "2          0.001221   8.339916e-01               0.296569   \n",
       "3          0.792673   1.958333e-06               0.000000   \n",
       "4          0.000320   2.058333e-06               0.000000   \n",
       "\n",
       "   Bwd Packet Length Min  Flow IAT Mean  Flow IAT Std  Bwd IAT Std  \\\n",
       "0                    0.0   1.975144e-04  4.644943e-04     0.000563   \n",
       "1                    0.0   1.333333e-07  0.000000e+00     0.000000   \n",
       "2                    0.0   5.957093e-02  3.113208e-01     0.000708   \n",
       "3                    0.0   1.958333e-06  0.000000e+00     0.000000   \n",
       "4                    0.0   1.083333e-06  5.169884e-07     0.000000   \n",
       "\n",
       "   Fwd PSH Flags  Min Packet Length  FIN Flag Count  PSH Flag Count  \\\n",
       "0            0.0                0.0             0.0             1.0   \n",
       "1            0.0                0.0             0.0             0.0   \n",
       "2            0.0                0.0             0.0             0.0   \n",
       "3            0.0                0.0             0.0             0.0   \n",
       "4            1.0                0.0             0.0             0.0   \n",
       "\n",
       "   ACK Flag Count  URG Flag Count  Init_Win_bytes_backward  Idle Std  \n",
       "0             0.0             0.0                 0.000931       0.0  \n",
       "1             1.0             0.0                 0.000000       0.0  \n",
       "2             1.0             0.0                 0.003601       0.0  \n",
       "3             1.0             1.0                 1.000000       0.0  \n",
       "4             1.0             0.0                 0.000015       0.0  "
      ]
     },
     "execution_count": 41,
     "metadata": {},
     "output_type": "execute_result"
    }
   ],
   "source": [
    "#after transformation:\n",
    "x_train.head()"
   ]
  },
  {
   "cell_type": "code",
   "execution_count": 42,
   "id": "4c9dae05-a5a1-4b4b-8704-4408eac7f6fc",
   "metadata": {},
   "outputs": [],
   "source": [
    "#let's save our work:\n",
    "import pickle\n",
    "file_path = './'"
   ]
  },
  {
   "cell_type": "code",
   "execution_count": 43,
   "id": "b1127bcf-7a3c-43f1-95bd-0dfc8c3e2cf9",
   "metadata": {},
   "outputs": [],
   "source": [
    "# Cleaned and processed train data\n",
    "pickle.dump((x_train, Y_train), open(file_path+'final_trainCICIDS2017.pkl', 'wb'))"
   ]
  },
  {
   "cell_type": "code",
   "execution_count": 44,
   "id": "d53a0ca0-ee29-49f9-839e-5c14746350ba",
   "metadata": {},
   "outputs": [],
   "source": [
    "pickle.dump((x_test, y_test), open(file_path+'final_testCICIDS2017.pkl', 'wb'))"
   ]
  },
  {
   "cell_type": "code",
   "execution_count": 45,
   "id": "b0850cf3-bd61-43e6-990e-82b64e5f1104",
   "metadata": {},
   "outputs": [],
   "source": [
    "#check every thing is ok!\n",
    "#((1064558, 15), (1064558,))\n",
    "x_train, y_train = pickle.load( open(file_path+'final_trainCICIDS2017.pkl', 'rb'))"
   ]
  },
  {
   "cell_type": "code",
   "execution_count": 46,
   "id": "785989fc-bd37-43ed-8267-a70112c522d3",
   "metadata": {},
   "outputs": [
    {
     "data": {
      "text/plain": [
       "(1064558, 15)"
      ]
     },
     "execution_count": 46,
     "metadata": {},
     "output_type": "execute_result"
    }
   ],
   "source": [
    "x_train.shape"
   ]
  },
  {
   "cell_type": "code",
   "execution_count": 47,
   "id": "a5e95ef3-50cd-4d73-a393-81c271dcf23c",
   "metadata": {},
   "outputs": [
    {
     "data": {
      "text/plain": [
       "(1064558,)"
      ]
     },
     "execution_count": 47,
     "metadata": {},
     "output_type": "execute_result"
    }
   ],
   "source": [
    "y_train.shape"
   ]
  },
  {
   "cell_type": "code",
   "execution_count": 48,
   "id": "dc54cd86-42ac-4614-abb1-28f6c9449788",
   "metadata": {},
   "outputs": [
    {
     "data": {
      "text/html": [
       "<div>\n",
       "<style scoped>\n",
       "    .dataframe tbody tr th:only-of-type {\n",
       "        vertical-align: middle;\n",
       "    }\n",
       "\n",
       "    .dataframe tbody tr th {\n",
       "        vertical-align: top;\n",
       "    }\n",
       "\n",
       "    .dataframe thead th {\n",
       "        text-align: right;\n",
       "    }\n",
       "</style>\n",
       "<table border=\"1\" class=\"dataframe\">\n",
       "  <thead>\n",
       "    <tr style=\"text-align: right;\">\n",
       "      <th></th>\n",
       "      <th>Destination Port</th>\n",
       "      <th>Flow Duration</th>\n",
       "      <th>Bwd Packet Length Max</th>\n",
       "      <th>Bwd Packet Length Min</th>\n",
       "      <th>Flow IAT Mean</th>\n",
       "      <th>Flow IAT Std</th>\n",
       "      <th>Bwd IAT Std</th>\n",
       "      <th>Fwd PSH Flags</th>\n",
       "      <th>Min Packet Length</th>\n",
       "      <th>FIN Flag Count</th>\n",
       "      <th>PSH Flag Count</th>\n",
       "      <th>ACK Flag Count</th>\n",
       "      <th>URG Flag Count</th>\n",
       "      <th>Init_Win_bytes_backward</th>\n",
       "      <th>Idle Std</th>\n",
       "    </tr>\n",
       "  </thead>\n",
       "  <tbody>\n",
       "    <tr>\n",
       "      <th>0</th>\n",
       "      <td>0.006760</td>\n",
       "      <td>2.171575e-03</td>\n",
       "      <td>0.074757</td>\n",
       "      <td>0.0</td>\n",
       "      <td>1.975144e-04</td>\n",
       "      <td>4.644943e-04</td>\n",
       "      <td>0.000563</td>\n",
       "      <td>0.0</td>\n",
       "      <td>0.0</td>\n",
       "      <td>0.0</td>\n",
       "      <td>1.0</td>\n",
       "      <td>0.0</td>\n",
       "      <td>0.0</td>\n",
       "      <td>0.000931</td>\n",
       "      <td>0.0</td>\n",
       "    </tr>\n",
       "    <tr>\n",
       "      <th>1</th>\n",
       "      <td>0.878750</td>\n",
       "      <td>1.333333e-07</td>\n",
       "      <td>0.000000</td>\n",
       "      <td>0.0</td>\n",
       "      <td>1.333333e-07</td>\n",
       "      <td>0.000000e+00</td>\n",
       "      <td>0.000000</td>\n",
       "      <td>0.0</td>\n",
       "      <td>0.0</td>\n",
       "      <td>0.0</td>\n",
       "      <td>0.0</td>\n",
       "      <td>1.0</td>\n",
       "      <td>0.0</td>\n",
       "      <td>0.000000</td>\n",
       "      <td>0.0</td>\n",
       "    </tr>\n",
       "    <tr>\n",
       "      <th>2</th>\n",
       "      <td>0.001221</td>\n",
       "      <td>8.339916e-01</td>\n",
       "      <td>0.296569</td>\n",
       "      <td>0.0</td>\n",
       "      <td>5.957093e-02</td>\n",
       "      <td>3.113208e-01</td>\n",
       "      <td>0.000708</td>\n",
       "      <td>0.0</td>\n",
       "      <td>0.0</td>\n",
       "      <td>0.0</td>\n",
       "      <td>0.0</td>\n",
       "      <td>1.0</td>\n",
       "      <td>0.0</td>\n",
       "      <td>0.003601</td>\n",
       "      <td>0.0</td>\n",
       "    </tr>\n",
       "    <tr>\n",
       "      <th>3</th>\n",
       "      <td>0.792673</td>\n",
       "      <td>1.958333e-06</td>\n",
       "      <td>0.000000</td>\n",
       "      <td>0.0</td>\n",
       "      <td>1.958333e-06</td>\n",
       "      <td>0.000000e+00</td>\n",
       "      <td>0.000000</td>\n",
       "      <td>0.0</td>\n",
       "      <td>0.0</td>\n",
       "      <td>0.0</td>\n",
       "      <td>0.0</td>\n",
       "      <td>1.0</td>\n",
       "      <td>1.0</td>\n",
       "      <td>1.000000</td>\n",
       "      <td>0.0</td>\n",
       "    </tr>\n",
       "    <tr>\n",
       "      <th>4</th>\n",
       "      <td>0.000320</td>\n",
       "      <td>2.058333e-06</td>\n",
       "      <td>0.000000</td>\n",
       "      <td>0.0</td>\n",
       "      <td>1.083333e-06</td>\n",
       "      <td>5.169884e-07</td>\n",
       "      <td>0.000000</td>\n",
       "      <td>1.0</td>\n",
       "      <td>0.0</td>\n",
       "      <td>0.0</td>\n",
       "      <td>0.0</td>\n",
       "      <td>1.0</td>\n",
       "      <td>0.0</td>\n",
       "      <td>0.000015</td>\n",
       "      <td>0.0</td>\n",
       "    </tr>\n",
       "  </tbody>\n",
       "</table>\n",
       "</div>"
      ],
      "text/plain": [
       "   Destination Port  Flow Duration  Bwd Packet Length Max  \\\n",
       "0          0.006760   2.171575e-03               0.074757   \n",
       "1          0.878750   1.333333e-07               0.000000   \n",
       "2          0.001221   8.339916e-01               0.296569   \n",
       "3          0.792673   1.958333e-06               0.000000   \n",
       "4          0.000320   2.058333e-06               0.000000   \n",
       "\n",
       "   Bwd Packet Length Min  Flow IAT Mean  Flow IAT Std  Bwd IAT Std  \\\n",
       "0                    0.0   1.975144e-04  4.644943e-04     0.000563   \n",
       "1                    0.0   1.333333e-07  0.000000e+00     0.000000   \n",
       "2                    0.0   5.957093e-02  3.113208e-01     0.000708   \n",
       "3                    0.0   1.958333e-06  0.000000e+00     0.000000   \n",
       "4                    0.0   1.083333e-06  5.169884e-07     0.000000   \n",
       "\n",
       "   Fwd PSH Flags  Min Packet Length  FIN Flag Count  PSH Flag Count  \\\n",
       "0            0.0                0.0             0.0             1.0   \n",
       "1            0.0                0.0             0.0             0.0   \n",
       "2            0.0                0.0             0.0             0.0   \n",
       "3            0.0                0.0             0.0             0.0   \n",
       "4            1.0                0.0             0.0             0.0   \n",
       "\n",
       "   ACK Flag Count  URG Flag Count  Init_Win_bytes_backward  Idle Std  \n",
       "0             0.0             0.0                 0.000931       0.0  \n",
       "1             1.0             0.0                 0.000000       0.0  \n",
       "2             1.0             0.0                 0.003601       0.0  \n",
       "3             1.0             1.0                 1.000000       0.0  \n",
       "4             1.0             0.0                 0.000015       0.0  "
      ]
     },
     "execution_count": 48,
     "metadata": {},
     "output_type": "execute_result"
    }
   ],
   "source": [
    "x_train.head()"
   ]
  },
  {
   "cell_type": "code",
   "execution_count": 53,
   "id": "90a5ac76-e3c2-4f9a-8035-a3a8908fdd07",
   "metadata": {},
   "outputs": [],
   "source": [
    "#also,we save it as csv file:\n",
    "pd.concat([x_train.reset_index(drop = True),Y_train.reset_index(drop= True)], axis = 1).to_csv(file_path+'ProcessedTrain_CICIDS2017.csv',index=False)\n",
    "pd.concat([x_test.reset_index(drop = True),y_test.reset_index(drop = True)], axis = 1).to_csv(file_path+'ProcessedTest_CICIDS2017.csv',index=False)"
   ]
  },
  {
   "cell_type": "code",
   "execution_count": 52,
   "id": "32641768-4995-4405-925e-7af54f0eaea5",
   "metadata": {},
   "outputs": [
    {
     "data": {
      "text/plain": [
       "(1064558, 16)"
      ]
     },
     "execution_count": 52,
     "metadata": {},
     "output_type": "execute_result"
    }
   ],
   "source": [
    "#check every thing is ok:\n",
    "tr = pd.read_csv('ProcessedTrain_CICIDS2017.csv')\n",
    "tr.shape"
   ]
  },
  {
   "cell_type": "code",
   "execution_count": 54,
   "id": "22bf1e32-cff0-4ca0-8829-8f5415b0058b",
   "metadata": {},
   "outputs": [
    {
     "data": {
      "text/plain": [
       "(756240, 16)"
      ]
     },
     "execution_count": 54,
     "metadata": {},
     "output_type": "execute_result"
    }
   ],
   "source": [
    "te = pd.read_csv('ProcessedTest_CICIDS2017.csv')\n",
    "te.shape"
   ]
  },
  {
   "cell_type": "code",
   "execution_count": null,
   "id": "3de39314-3794-47be-86f0-c01d03278c9a",
   "metadata": {},
   "outputs": [],
   "source": [
    "#the end"
   ]
  }
 ],
 "metadata": {
  "kernelspec": {
   "display_name": "Python 3 (ipykernel)",
   "language": "python",
   "name": "python3"
  },
  "language_info": {
   "codemirror_mode": {
    "name": "ipython",
    "version": 3
   },
   "file_extension": ".py",
   "mimetype": "text/x-python",
   "name": "python",
   "nbconvert_exporter": "python",
   "pygments_lexer": "ipython3",
   "version": "3.10.11"
  }
 },
 "nbformat": 4,
 "nbformat_minor": 5
}
