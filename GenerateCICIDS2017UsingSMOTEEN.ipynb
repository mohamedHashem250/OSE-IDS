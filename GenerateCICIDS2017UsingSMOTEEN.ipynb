{
 "cells": [
  {
   "cell_type": "code",
   "execution_count": 1,
   "id": "420bbd0b",
   "metadata": {},
   "outputs": [],
   "source": [
    "import matplotlib.pyplot as plt\n",
    "from sklearn.linear_model import SGDClassifier,RidgeClassifier\n",
    "from sklearn.metrics import (precision_score, recall_score,f1_score)\n",
    "from sklearn.metrics import average_precision_score\n",
    "import pandas as pd"
   ]
  },
  {
   "cell_type": "code",
   "execution_count": 2,
   "id": "01faee37",
   "metadata": {},
   "outputs": [],
   "source": [
    "import pandas as pd\n",
    "import numpy as np\n",
    "import sys, os , warnings\n",
    "from collections import defaultdict\n",
    "from sklearn.preprocessing import LabelEncoder, StandardScaler ,MinMaxScaler,RobustScaler, PowerTransformer, normalize\n",
    "warnings.filterwarnings('ignore')\n",
    "import seaborn as sns\n",
    "from sklearn.utils import resample"
   ]
  },
  {
   "cell_type": "code",
   "execution_count": 3,
   "id": "47e9bb44",
   "metadata": {},
   "outputs": [],
   "source": [
    "data_folder  = './'"
   ]
  },
  {
   "cell_type": "code",
   "execution_count": 4,
   "id": "4adc1945",
   "metadata": {},
   "outputs": [],
   "source": [
    "#let's load the processed file:\n",
    "import pickle\n",
    "from sklearn.decomposition import PCA"
   ]
  },
  {
   "cell_type": "code",
   "execution_count": 5,
   "id": "98d62cbf",
   "metadata": {},
   "outputs": [],
   "source": [
    "#check every thing is ok!\n",
    "x_train, y_train = pickle.load( open(data_folder+'final_trainCICIDS2017.pkl', 'rb'))"
   ]
  },
  {
   "cell_type": "code",
   "execution_count": 6,
   "id": "6317fc48",
   "metadata": {},
   "outputs": [],
   "source": [
    "x_test, y_test =  pickle.load( open(data_folder+'final_testCICIDS2017.pkl', 'rb'))"
   ]
  },
  {
   "cell_type": "code",
   "execution_count": 7,
   "id": "38f36d4f",
   "metadata": {},
   "outputs": [
    {
     "data": {
      "text/plain": [
       "(1064558, 15)"
      ]
     },
     "execution_count": 7,
     "metadata": {},
     "output_type": "execute_result"
    }
   ],
   "source": [
    "x_train.shape"
   ]
  },
  {
   "cell_type": "code",
   "execution_count": null,
   "id": "cd11b928-ed1f-452b-80c3-736240b497c7",
   "metadata": {},
   "outputs": [],
   "source": [
    "1064558, 15)"
   ]
  },
  {
   "cell_type": "code",
   "execution_count": 8,
   "id": "4b5f7c3b",
   "metadata": {},
   "outputs": [],
   "source": [
    "#we train on attack data only\n",
    "train = pd.concat([x_train.reset_index(drop=True),y_train.reset_index(drop=True)], axis = 1)"
   ]
  },
  {
   "cell_type": "code",
   "execution_count": 9,
   "id": "b51f2b5e-eddc-4604-9f5e-e5f44c17777c",
   "metadata": {},
   "outputs": [
    {
     "data": {
      "text/plain": [
       "(1064558, 16)"
      ]
     },
     "execution_count": 9,
     "metadata": {},
     "output_type": "execute_result"
    }
   ],
   "source": [
    "train.shape"
   ]
  },
  {
   "cell_type": "code",
   "execution_count": 10,
   "id": "93de6147",
   "metadata": {},
   "outputs": [
    {
     "data": {
      "text/plain": [
       "Index(['Destination Port', 'Flow Duration', 'Bwd Packet Length Max',\n",
       "       'Bwd Packet Length Min', 'Flow IAT Mean', 'Flow IAT Std', 'Bwd IAT Std',\n",
       "       'Fwd PSH Flags', 'Min Packet Length', 'FIN Flag Count',\n",
       "       'PSH Flag Count', 'ACK Flag Count', 'URG Flag Count',\n",
       "       'Init_Win_bytes_backward', 'Idle Std', 'Label'],\n",
       "      dtype='object')"
      ]
     },
     "execution_count": 10,
     "metadata": {},
     "output_type": "execute_result"
    }
   ],
   "source": [
    "train.columns"
   ]
  },
  {
   "cell_type": "code",
   "execution_count": 11,
   "id": "6f3f31ed",
   "metadata": {},
   "outputs": [
    {
     "data": {
      "text/plain": [
       "Label\n",
       "1    298019\n",
       "Name: count, dtype: int64"
      ]
     },
     "execution_count": 11,
     "metadata": {},
     "output_type": "execute_result"
    }
   ],
   "source": [
    "attack_data = train[train['Label']==1]\n",
    "train = None\n",
    "attack_data['Label'].value_counts()"
   ]
  },
  {
   "cell_type": "code",
   "execution_count": 11,
   "id": "b76dc2d3",
   "metadata": {},
   "outputs": [],
   "source": [
    "attack_data = attack_data.drop('Label',axis = 1)\n",
    "attack_data = attack_data.values"
   ]
  },
  {
   "cell_type": "code",
   "execution_count": 12,
   "id": "5da738b3-edc4-43c4-84bf-2905218ea4e5",
   "metadata": {},
   "outputs": [],
   "source": [
    "from imblearn.under_sampling import RandomUnderSampler\n",
    "from imblearn.over_sampling import SVMSMOTE, ADASYN, BorderlineSMOTE\n",
    "from imblearn.combine import SMOTEENN"
   ]
  },
  {
   "cell_type": "code",
   "execution_count": null,
   "id": "2b8dff15-e498-42c7-b377-cc3d494e16ae",
   "metadata": {},
   "outputs": [],
   "source": [
    "Label\n",
    "0    766539\n",
    "1    298019"
   ]
  },
  {
   "cell_type": "code",
   "execution_count": 13,
   "id": "5de08690",
   "metadata": {},
   "outputs": [],
   "source": [
    "sm = SMOTEENN(n_jobs=-1)"
   ]
  },
  {
   "cell_type": "code",
   "execution_count": 14,
   "id": "3285386e",
   "metadata": {},
   "outputs": [],
   "source": [
    "X_res, y_res = sm.fit_resample(x_train, y_train)"
   ]
  },
  {
   "cell_type": "code",
   "execution_count": 22,
   "id": "b44fc010-5088-40ea-b3a8-6ef0c815a505",
   "metadata": {},
   "outputs": [
    {
     "data": {
      "text/plain": [
       "((1524782, 15), (1524782,))"
      ]
     },
     "execution_count": 22,
     "metadata": {},
     "output_type": "execute_result"
    }
   ],
   "source": [
    "X_res.shape, y_res.shape"
   ]
  },
  {
   "cell_type": "code",
   "execution_count": 16,
   "id": "a56d8cab-cbba-4f90-8da4-cda0d638a0a3",
   "metadata": {},
   "outputs": [
    {
     "data": {
      "text/plain": [
       "pandas.core.series.Series"
      ]
     },
     "execution_count": 16,
     "metadata": {},
     "output_type": "execute_result"
    }
   ],
   "source": [
    "type(y_res)"
   ]
  },
  {
   "cell_type": "code",
   "execution_count": 18,
   "id": "f66e7615-b5d8-41ed-852c-865b5b34a24f",
   "metadata": {},
   "outputs": [
    {
     "data": {
      "text/plain": [
       "Label\n",
       "1    762780\n",
       "0    762002\n",
       "Name: count, dtype: int64"
      ]
     },
     "execution_count": 18,
     "metadata": {},
     "output_type": "execute_result"
    }
   ],
   "source": [
    "y_res.value_counts()"
   ]
  },
  {
   "cell_type": "code",
   "execution_count": 19,
   "id": "955dd2b5-1449-4138-a3ee-fe4151da2525",
   "metadata": {},
   "outputs": [
    {
     "data": {
      "text/plain": [
       "Index(['Destination Port', 'Flow Duration', 'Bwd Packet Length Max',\n",
       "       'Bwd Packet Length Min', 'Flow IAT Mean', 'Flow IAT Std', 'Bwd IAT Std',\n",
       "       'Fwd PSH Flags', 'Min Packet Length', 'FIN Flag Count',\n",
       "       'PSH Flag Count', 'ACK Flag Count', 'URG Flag Count',\n",
       "       'Init_Win_bytes_backward', 'Idle Std'],\n",
       "      dtype='object')"
      ]
     },
     "execution_count": 19,
     "metadata": {},
     "output_type": "execute_result"
    }
   ],
   "source": [
    "X_res.columns"
   ]
  },
  {
   "cell_type": "code",
   "execution_count": 21,
   "id": "d88def6f-e849-42b8-ac73-96035008fa83",
   "metadata": {},
   "outputs": [],
   "source": [
    "file_path = './'"
   ]
  },
  {
   "cell_type": "code",
   "execution_count": 23,
   "id": "5ffb6b54",
   "metadata": {},
   "outputs": [],
   "source": [
    "pickle.dump((X_res, y_res), open(file_path+'train_resampledCICIDS2017.pkl', 'wb'))"
   ]
  },
  {
   "cell_type": "code",
   "execution_count": 3,
   "id": "00921078-c56f-40a2-98db-153a7a4761e9",
   "metadata": {},
   "outputs": [],
   "source": [
    "#let's load the processed file:\n",
    "import pickle\n",
    "data_folder  = './'"
   ]
  },
  {
   "cell_type": "code",
   "execution_count": 4,
   "id": "eebf463b",
   "metadata": {},
   "outputs": [],
   "source": [
    "#to verify\n",
    "x_train_res, y_train_res = pickle.load( open(data_folder+'train_resampledCICIDS2017.pkl', 'rb'))"
   ]
  },
  {
   "cell_type": "code",
   "execution_count": 5,
   "id": "e0bf4236-e314-486c-8992-9bc3e54116d4",
   "metadata": {},
   "outputs": [
    {
     "data": {
      "text/plain": [
       "((1524782, 15), (1524782,))"
      ]
     },
     "execution_count": 5,
     "metadata": {},
     "output_type": "execute_result"
    }
   ],
   "source": [
    "x_train_res.shape, y_train_res.shape\n",
    "#((1524782, 15), (1524782,))\n"
   ]
  },
  {
   "cell_type": "code",
   "execution_count": 6,
   "id": "17195d1f-cd9c-4edd-9444-5411d1efddeb",
   "metadata": {},
   "outputs": [
    {
     "data": {
      "text/plain": [
       "Index(['Destination Port', 'Flow Duration', 'Bwd Packet Length Max',\n",
       "       'Bwd Packet Length Min', 'Flow IAT Mean', 'Flow IAT Std', 'Bwd IAT Std',\n",
       "       'Fwd PSH Flags', 'Min Packet Length', 'FIN Flag Count',\n",
       "       'PSH Flag Count', 'ACK Flag Count', 'URG Flag Count',\n",
       "       'Init_Win_bytes_backward', 'Idle Std'],\n",
       "      dtype='object')"
      ]
     },
     "execution_count": 6,
     "metadata": {},
     "output_type": "execute_result"
    }
   ],
   "source": [
    "x_train_res.columns"
   ]
  },
  {
   "cell_type": "code",
   "execution_count": 7,
   "id": "64a5c3e1-b0ff-4f9a-8f25-35009a194c2b",
   "metadata": {},
   "outputs": [
    {
     "data": {
      "text/plain": [
       "pandas.core.frame.DataFrame"
      ]
     },
     "execution_count": 7,
     "metadata": {},
     "output_type": "execute_result"
    }
   ],
   "source": [
    "type(x_train_res)"
   ]
  },
  {
   "cell_type": "code",
   "execution_count": 12,
   "id": "bf29f619-b412-4d85-b6b4-a9295a5f08a1",
   "metadata": {},
   "outputs": [
    {
     "data": {
      "text/plain": [
       "'Label'"
      ]
     },
     "execution_count": 12,
     "metadata": {},
     "output_type": "execute_result"
    }
   ],
   "source": [
    "y_train_res.name"
   ]
  },
  {
   "cell_type": "code",
   "execution_count": 20,
   "id": "f80260c9-308a-4237-a064-6bcfa804e5c9",
   "metadata": {},
   "outputs": [],
   "source": [
    "import pandas as pd\n",
    "import matplotlib.pyplot as plt\n",
    "import seaborn as sns"
   ]
  },
  {
   "cell_type": "code",
   "execution_count": 16,
   "id": "3330ba8a-dabf-4b6d-acd2-a8b0cb3db8ab",
   "metadata": {},
   "outputs": [],
   "source": [
    "combined_df = pd.concat([x_train_res,y_train_res],axis = 1)"
   ]
  },
  {
   "cell_type": "code",
   "execution_count": 17,
   "id": "812dac0e-4e9b-4291-8620-41bea15b468d",
   "metadata": {},
   "outputs": [
    {
     "data": {
      "text/plain": [
       "(1524782, 16)"
      ]
     },
     "execution_count": 17,
     "metadata": {},
     "output_type": "execute_result"
    }
   ],
   "source": [
    "combined_df.shape"
   ]
  },
  {
   "cell_type": "code",
   "execution_count": null,
   "id": "e288fc4b-d7be-4bae-8fc8-95e8b87d7b4c",
   "metadata": {},
   "outputs": [],
   "source": []
  },
  {
   "cell_type": "code",
   "execution_count": 22,
   "id": "b342889b-adb7-43bc-b9a9-1375872b03f6",
   "metadata": {},
   "outputs": [
    {
     "data": {
      "image/png": "[encoded data removed]",
      "text/plain": [
       "<Figure size 1000x800 with 1 Axes>"
      ]
     },
     "metadata": {},
     "output_type": "display_data"
    }
   ],
   "source": [
    "# Plot the distribution\n",
    "plt.figure(figsize=(10, 8))\n",
    "ax = sns.countplot(data=combined_df, x='Label', hue='Label')\n",
    "\n",
    "# Add numbers on top of the bars\n",
    "for p in ax.patches:\n",
    "    ax.annotate(f'{int(p.get_height())}', (p.get_x() + p.get_width() / 2., p.get_height()),\n",
    "                ha='center', va='baseline', fontsize=12, color='black', xytext=(0, 5),\n",
    "                textcoords='offset points')\n",
    "\n",
    "# Set plot title and labels\n",
    "plt.title('Balanced CICIDS2017 Data Distribution', fontsize=16)\n",
    "plt.xlabel('Label', fontsize=14)\n",
    "plt.ylabel('Count', fontsize=14)\n",
    "\n",
    "# Save the figure as a high-resolution image\n",
    "plt.savefig(\"balanced training.png\", dpi=300)\n",
    "\n",
    "# Show the plot\n",
    "plt.show()"
   ]
  },
  {
   "cell_type": "code",
   "execution_count": null,
   "id": "cc57f3b6-afbc-462e-8a8f-f69e0d312d11",
   "metadata": {},
   "outputs": [],
   "source": [
    "# Set plot title and labels\n",
    "plt.title('Balanced CICIDS2017 Data Distribution', fontsize=16)\n",
    "plt.xlabel('Label', fontsize=14)\n",
    "plt.ylabel('Count', fontsize=14)"
   ]
  },
  {
   "cell_type": "code",
   "execution_count": 36,
   "id": "828c32c5-5345-4dc0-84c8-0f7e5d238439",
   "metadata": {},
   "outputs": [
    {
     "data": {
      "image/png": "[encoded data removed]",
      "text/plain": [
       "<Figure size 800x800 with 1 Axes>"
      ]
     },
     "metadata": {},
     "output_type": "display_data"
    }
   ],
   "source": [
    "# Define the labels\n",
    "labels = ['Attack','Normal']\n",
    "# Set up the figure size\n",
    "plt.figure(figsize=(8,8))\n",
    "# Plot the pie chart with actual counts\n",
    "combined_df['Label'].value_counts().plot.pie(\n",
    "    labels=labels,\n",
    "    explode=[0, 0],  # No space between slices\n",
    "    autopct=lambda p: f'{int(p * combined_df[\"Label\"].value_counts().sum() / 100):,}',  # Display actual counts\n",
    ")\n",
    "#plt.title('Balanced CICIDS2017', fontsize=16)\n",
    "plt.xlabel('', fontsize=14)\n",
    "plt.ylabel('', fontsize=14)\n",
    "# Save the figure as a high-resolution image\n",
    "plt.savefig(\"balanced training.png\", dpi=300)\n",
    "\n",
    "# Show the plot\n",
    "plt.show()\n"
   ]
  },
  {
   "cell_type": "code",
   "execution_count": 29,
   "id": "8ee81d54-4598-429e-982e-0234b4c86588",
   "metadata": {},
   "outputs": [
    {
     "data": {
      "image/png": "[encoded data removed]",
      "text/plain": [
       "<Figure size 640x480 with 1 Axes>"
      ]
     },
     "metadata": {},
     "output_type": "display_data"
    }
   ],
   "source": [
    "\n",
    "combined_df['Label'].value_counts().plot.pie(explode=[0,0.1],autopct='%1.1f%%',shadow=True)\n",
    "plt.title('Balanced CICIDS2017 Data Distribution', fontsize=16)\n",
    "plt.xlabel('', fontsize=14)\n",
    "plt.ylabel('', fontsize=14)\n",
    "plt.show()"
   ]
  },
  {
   "cell_type": "code",
   "execution_count": null,
   "id": "66302d61-d700-4071-a0b3-38b535a4c199",
   "metadata": {},
   "outputs": [],
   "source": [
    "#the end"
   ]
  }
 ],
 "metadata": {
  "kernelspec": {
   "display_name": "Python 3 (ipykernel)",
   "language": "python",
   "name": "python3"
  },
  "language_info": {
   "codemirror_mode": {
    "name": "ipython",
    "version": 3
   },
   "file_extension": ".py",
   "mimetype": "text/x-python",
   "name": "python",
   "nbconvert_exporter": "python",
   "pygments_lexer": "ipython3",
   "version": "3.10.11"
  }
 },
 "nbformat": 4,
 "nbformat_minor": 5
}
